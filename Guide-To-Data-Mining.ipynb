{
 "metadata": {
  "name": "Guide-To-Data-Mining"
 },
 "nbformat": 3,
 "nbformat_minor": 0,
 "worksheets": [
  {
   "cells": [
    {
     "cell_type": "heading",
     "level": 1,
     "metadata": {},
     "source": [
      "Preface"
     ]
    },
    {
     "cell_type": "markdown",
     "metadata": {},
     "source": [
      "####If you continue this simple practice every day, you will obtain some wonderful power. \n",
      "\n",
      "####Before you attain it, it is something wonderful, but after you attain it, it is nothing special.\n",
      "\n",
      "####Shunryu Suzuki\n",
      "####Zen Mind, Beginner's Mind."
     ]
    },
    {
     "cell_type": "markdown",
     "metadata": {},
     "source": [
      "The Japanese characters above, Shoshin, represent the concept of Beginner's Mind\u2014the idea of having\n",
      "an open mind that is eager to explore possibilities. Most of us have heard some version of the following\n",
      "story (possibly from Bruce Lee's Enter the Dragon). A professor is seeking enlightenment and goes to a\n",
      "wise monk for spiritual direction. The professor dominates the discussion outlining everything he has\n",
      "learned in his life and summarizing papers he has written. The monk asks tea? and begins to pour tea\n",
      "into the professor's cup. And continues to pour, and continues to pour, until the tea over pours the\n",
      "teacup, the table, and spills onto the floor. What are you doing? the professor shouts. Pouring tea the\n",
      "monk says and continues: Your mind is like this teacup. It is so filled with ideas that nothing else will\n",
      "go in. You must empty your mind before we can begin. To me, the best programmers are empty cups.\n",
      "They constantly explore new technology (noSQL, node-js, whatever) with open minds. Mediocre\n",
      "programmers have surrounded their minds with cities of delusion\u2014C++ is good, Java is bad, PHP is\n",
      "the only way to do web programming, MySQL is the only database to consider. My hope is that you\n",
      "will find some of the ideas in this book valuable and I ask that you keep a beginner's mind when\n",
      "reading it. "
     ]
    },
    {
     "cell_type": "markdown",
     "metadata": {},
     "source": [
      "\n",
      "\n",
      "As Shunryu Suzuki says: In the beginner's mind there are many possibilities, In the expert's mind there are few.\n",
      "\n",
      "Above, I have another quote by Suzuki: If you continue this simple practice every day, you will obtain\n",
      "some wonderful power. Before you attain it, it is something wonderful, but after you attain it, it is\n",
      "nothing special. Before you work through this book you might think that systems like Pandora,\n",
      "Amazon's recommendations, and automatic data mining for terrorists, must be very complex and the\n",
      "math behind the algorithms must be extremely complex requiring a PhD to understand. One goal I have\n",
      "for this book is to pull back this curtain of complexity and show some of the rudimentary methods\n",
      "involved. Granted there are super-smart people at Google, the National Security Agency and elsewhere\n",
      "developing amazingly complex algorithms, but for the most part data mining relies on easy-tounderstand principles. Before you start the book you might think data mining is pretty amazing stuff.\n",
      "\n",
      "By the end of the book I hope you will be able to say nothing special.\n",
      "Finally, I am not a data mining elite\u2014I am not one of those super-smart, super-intelligent data mining\n",
      "experts. I guess I would describe myself as a journeyman programmer who uses data mining. I can only\n",
      "lead you so far. I can show you the basics, describe when to use certain techniques, but if you want to\n",
      "cross over this threshold your next step would be to seek more expert advice.\n"
     ]
    },
    {
     "cell_type": "markdown",
     "metadata": {},
     "source": [
      "#Chapter 1: Introduction\n",
      "##Finding Stuff"
     ]
    },
    {
     "cell_type": "markdown",
     "metadata": {},
     "source": [
      "Imagine life in a small American town 100 years ago. Everyone knows one another. A crate of fabric arrives at the general store. The clerk notices that the pattern of a particular bolt would highly appeal to Mrs. Clancey (the clerk knows that Mrs. Clancey likes bright floral patterns). Chow Winkler mentions to Mr. Wilson, the saloon keeper, that he is thinking of selling his spare Remington rifle. Mr. Wilson knows that Bud Barclay is looking for a quality rifle and mentions the Remington to Bud the next time Bud comes to the tavern. Sheriff Valquez and his deputies know that Lee Pye is someone to keep an eye on as he likes to drink, has a short temper, and is strong. Life in a small town 100 years ago was all about connections. People knew your likes and dislikes, your health, the state of your marriage. For better or worse, it was a personalized experience.\n",
      "Let's jump ahead fifty years to the 1960s. Personalized interactions are less likely but they are still present. A regular coming into a local bookstore might be greeted with \"The new James Michener is in\"-- the clerk knowing that the regular loves James Michener books. Or the clerk might recommend to the regular The Conscience of a Conservative by Barry Goldwater, because the clerk knows the regular is a staunch conservative. A regular customer comes into a diner and the waitress says \"The usual?\"\n",
      "Even today there are pockets of personalization. I go to my local coffee shop in Mesilla and the barista says \"A venti skinny latte with an extra shot?\" knowing that is what I get every morning. I take my standard poodle to the groomers and the groomer doesn't need to ask what style of clip I want. She knows I like the no frills sports clip with the German style ears.\n",
      "But things have changed since the small towns of 100 years ago. Large grocery stores and big box stores replaced neighborhood grocers and other merchants At the start of this change choices were limited. Henry Ford once said \"Any customer can have a car painted any color that he wants so long as it is black.\" The record store carried a limited number of records; the bookstore carried a limited number of books. Want ice cream? The choices were vanilla, chocolate, and maybe strawberry. Want a washing machine? There were three choices at the local Sears.\n",
      "\n",
      "###Welcome to the 21st Century\n",
      "\n",
      "In the 21st century those limited choices are a thing of the past. I want to buy some music? iTunes has some 11 million tracks to choose from. 11 million! They have sold 10 billion tracks as of February 2010. I need more choices? I can go to myspace and check out numerous offerings. 1-3I want to buy a book? Amazon has 7.5 million titles to choose from.\n",
      "I want to watch a movie or video? Netflix has nearly 100,000 titles. There's also iTunes, Hulu, and YouTube.\n",
      "I find 11 million tracks from iTunes and Netflix, iTunes & Hulu too limiting? There is always usenet or P2P which even have a greater selection.\n",
      "I want to buy a laptop? When I type in laptop into the Amazon search box I get 3,811 results. I type in rice cooker and get over 1,000.\n",
      "In the near future there will be even more choice\u2014billions of music tracks online\u2014a wide variety of video--products that can be customized with 3D printing. Finding relevant stuff.\n",
      "The problem is finding relevant stuff. Amid all those 11 million tracks on iTunes, there are probably quite a number that I will absolutely love, but how do I find them. I want to watch a streaming movie from Netflix tonight, what should I watch. I want to download a movie using P2P, but which movie. And the problem is getting worse. Every minute terabytes of media are added to the net. Every minute 100 new files are available on usenet. Every minute 24 hours of video is uploaded to YouTube. Every hour 180 new books are published. Every day there are more and more options of stuff to buy in the real world. It gets more and more difficult to find the relevant stuff in this ocean of possibilities. If you are a producer of media\u2014say the Candice Reyes Quintet from El Paso, the danger isn't someone downloading your music illegally\u2014the danger is obscurity.\n",
      "\n",
      "###How do we find relevant stuff?\n",
      "\n",
      "Years ago, in that small town, our friends helped us find stuff. That bolt of fabric that would be perfect for us; that new novel at the bookstore; that new 33 1/3 LP at the record store. Even today we rely on friends to help us find some relevant stuff.\n",
      "We used experts to help us find stuff. Years ago Consumer Reports could evaluate all the washing machines sold\u2014all 20 of them\u2014or all the rice cookers sold-- all 10 of them and make recommendations. Today there are hundreds of different rice cookers available on Amazon and it is unlikely that a single expert source can rate all of them. Years ago, Roger Ebert would review virtually all the movies available. Today about 25,000 movies are made each year worldwide. Plus, we now have access to video from a variety of sources. Roger Ebert, or any single expert, cannot review all the movies that are available to us. We also use the thing itself to help us find stuff. For example, I owned a Sears washing machine that lasted 30 years, I am going to buy another Sears washing machine. I liked one album by the Beatles\u2014I will buy another thinking chances are good I will like that too. These methods of finding relevant stuff\u2014friends, experts, the thing itself\u2014are still present today but we need some computational help to transform them into the 21st century where we have billions of choices. In this book we will explore methods of aggregating people's likes and dislikes, there purchasing history, and other data\u2014exploiting the power of social net (friends)\u2014to help us mine for relevant stuff. We will examine methods that use attributes of the thing itself. For example, I like the band Phoenix. The system might know attributes of Phoenix\u2014that it uses electric rock instrumentation, has punk influences, has a subtle use of vocal harmony. It might recommend to me a similar band that has similar attributes, for example, The Strokes.\n",
      "\n",
      "###It's just not stuff.\n",
      "\n",
      "Data mining is just not about recommending stuff to us, or having merchants sell more stuff. Consider these examples.\n",
      "The mayor of that small town of 100 years ago, knew everybody. When he ran for re-election he knew how to tailor what he said to each individual\u2014Martha, I know you are interested in schools and I will do everything in my power to bring another teacher to town. My father belonged to the United Auto Workers' Union. Around election time I remember the union representative coming to our house to remind my father what candidates to vote for. Hey Syl, how are the wife and kids? \u2026 Now let me tell you why you should vote for Frank Zeidler, the Socialist candidate for mayor... This individualized political message changed to the homogenous ads during the rise of television. Everyone got the same message. A good example of this is the famous Daisy television ad in support of Lyndon Johnson ( a young girl pulling petals off a daisy while a nuclear bomb goes off in the background). Now, with elections determined by small margins, individualization has returned. You are interested in a women's right to chose? You might get a robo-call directed at that very issue.\n",
      "The sheriff of that small town knew who the trouble makers were. Now, threats seem to be hidden, terrorists can be anywhere. On October 11, 2001 the US government passed the USA Patriot Act (short for Uniting and Strengthening America by Providing Appropriate Tools Required to Intercept and Obstruct Terrorism). In part this bill enables investigators to obtain records for a variety of sources including libraries (what books we read), hotels (who stayed where and for how long), credit card companies, toll roads registering that we passed by. For the most part the government uses private companies to keep data on us. Companies like Seisint have data on almost all of us, photos of us, where we live, what we drive, our income, our buying behavior, our friends. Seisint owns supercomputers that use data mining techniques to make predictions about people. Their product by the way is called The Matrix.\n",
      "\n",
      "###Data Mining extends what we already do.\n",
      "\n",
      "Stephen Baker begins his book The Numerati this way: Imagine you are in a caf\u00e9, perhaps the noisy one I'm sitting in at this moment. A young women at a table to your right is typing on her laptop. You turn your head and look at her screen. She surfs the Internet. You watch.\n",
      "Hours pass. She reads an online paper. You notice that she reads three articles about China. She scouts movies for Friday night and watches the trailer for Kung Fu Panda. She clicks on an ad that promises to connect her to old high school classmates. You sit there taking notes. With each passing minute, you're learning more about her. Now imagine that you could watch 150 million people surfing at the same time.\n",
      "Data mining is focused on finding patterns in data. At the small scale, we are expert at building mental models and finding patterns. I want to watch a movie tonight with my wife. I have a mental model of what she likes. I know she dislikes violent movies (she didn't like District 9 for that reason). She likes moves by Charlie Kaufman. I can use that mental model I have of her movie preferences to predict 1-6what movies she may or may not like. A friend is visiting from Europe. I know she is a vegetarian and I can use that information to predict she would not like the local rib joint. People are good at making models and making predictions. Data mining expands this ability and enables us to handle large quantities of information\u2014the 150 million people in the Baker quote above. It enables the Pandora Music Service to tailor a music station to your specific musical preferences. It enables Netflix to make specific personalized movie recommendations to you.\n",
      "\n",
      "###Tera-mining is not something from Starcraft II\n",
      "\n",
      "At the end of the 20th century a million word data set was considered large. When I was a graduate student I worked as a programmer for a year on the Greek New Testament.1 It's only around 200,000 words but the analysis was too large to fit into the mainframe's memory necessitating spooling results off to magnetic tapes, which I had to request to be mounted.\n",
      "\n",
      "Today it is not unusual to be doing data mining on terabytes of information. Google has over 5 petabytes (that's 5,000 terabytes) of web data. In 2006 Google released a dataset to the research community based on one trillion words. The National Security Agency has call records for trillions of phone calls. Acxiom, a company that collects information (credit card purchases, telephone records, medical records, car registrations, etc) on 200 million adults in the US, has amassed over 1 petabyte of data. Robert O'Harrow, Jr., author or No Place to Hide, in an effort to help us grasp how much information is 1 petabyte says it is the equivalent of 50,000 miles of stacked King James Bibles. I frequently drive 2,000 between New Mexico and Virginia. When I try to imagine bibles stacked along the entire way that seems like an unbelievable amount of data. The only thing I can say about bibles stacked for 50,000 miles is the understated \u201cThat's a lot of data.\u201d\n",
      "\n",
      "The Library of Congress has around 20 terabytes of text. You could store the entire collection of the Library of Congress on a few thousand dollar's worth of hard drives! In contrast, Walmart has over 570 terabytes of data.\n",
      "\n",
      "All this data just doesn't sit there\u2014it is constantly being mined, new associations made, patterns identified. Tera-mining.\n",
      "Throughout this book we will be dealing with small datasets. It's good thing. We don't want our algorithm to run for a week only to discover we have some error in our logic. The biggest dataset we will use is under 100MB; the smallest just tens of lines of data.\n",
      "\n",
      "The book resulting from this work is the Analytical Greek New Testament by Timothy and Barbara Friberg (available on Amazon). I was just one of three programmers on this project done at the University of Minnesota.\n",
      "\n",
      "###The format of the book\n",
      "\n",
      "This book follows a learn-by-doing approach. Instead of passively reading the book, I encourage you to work through the exercises and experiment with the Python code I provide. Experimenting around, code hacking, and trying out methods with different data sets is the key to really gaining an understanding for the techniques.\n",
      "\n",
      "I try to strike a balance between hands-on, nuts-and-bolts discussion of Python data mining code that you can use and modify, and the theory behind the data mining techniques. To try to prevent the brain freeze associated with reading theory, math, and Python code, I tried to stimulate a different part of your brain by adding drawings and pictures. This book is not a comprehensive textbook on data mining techniques. There are textbooks, like Introduction to Data Mining by Pang-Ning Tan, Michael Steinbach, and Vipin Kumar that provide significantly better coverage of data mining methods and provide more in-depth analysis of the mathematic underpinnings of these methods. This book\u2014the one you are holding\u2014is intended more as a quick, gritty, hands-on introduction designed to give you a basic foundation of data mining techniques. Later, you can pick up a more comprehensive book to fill in any gaps that you wish. Part of the usefulness of this book is the accompanying Python code and the datasets. I think the inclusion of both these make it easier for the learner to understand key concepts, but at the same time, not shoe-horn the learner into a scripted exploration.\n",
      "The book is in its infancy\u2014let's call it version 0.2. If something is confusing to you, you find an error, or have any suggestions, please let me know on the website. I will certainly give you credit for your contributions. The book is under a Creative Commons Attribution-ShareAlike 3.0 license meaning your are free to share and remix as long as you give attribution. There will always be an electronic version of the book that is free. At some point I may decide to sell a dead-tree version.\n",
      "\n",
      "###What will you be able to do when you finish this book?\n",
      "\n",
      "When you finish this book you will be able to design and implement recommendation systems for websites using Python or any language you know (for example, PHP). For example, when you look at a product on Amazon, or a tune on Pandora, you are presented with a list of recommendations (You might also like \u2026). You will learn how to develop such systems. In addition, the book should provide you with the necessary vocabulary to enable you to work in development teams on data mining efforts. As part of this goal, this book should help shed the mystery of recommendation systems, terrorist identification systems, and other data mining systems. You should at least have a rough idea of how they work.\n",
      "\n",
      "###Why \u2013 why does this matter?\n",
      "\n",
      "Why should you use your time reading (and working through) this book on data mining? At the beginning of this chapter I gave examples related to the importance of data mining. The summary of that section would go as follows. There's lots of stuff out there (movies, music, books, rice cookers). 1-8There's going to be a huge growth in the amount of stuff out there. The problem with having all this stuff available is finding the stuff that is relevant to us. Of all the movies out there, what movie should I watch. What's the next book I should read? This problem of identifying relevant stuff is what data mining is about. Most websites will have some component dealing with 'finding stuff'. In addition to the movies, music, books, and rice cookers mentioned above, you might want recommendations about what friends to follow. How about a personalized newspaper showing just the news you are most interested in? If you are a programmer, particularly a web developer, it would be useful to know data mining techniques.\n",
      "Okay, so you can see the reason to devote some of your time to learning data mining, but why this book? There are books that give you a non-technical overview of data mining. They are a quick read, entertaining, inexpensive, and can be read late at night (no hairy technical bits). A great example of this is The Numerati by Stephen Baker. I recommend this book\u2014I listened to the audio version of it while driving between Virginia and New Mexico. It was engrossing. On the other extreme are college textbooks on data mining. They are comprehensive and provide an in-depth analysis of data mining theory and practice. Again, I recommend books in this category. I wrote this book to fill a gap. It's a book designed for people who love to program\u2014hackers. The book is intended to be read at a computer so the reader can participate and mess with code. The book has math formulas but I try to explain them in a way that is intelligible to average programmers, who may have forgotten a hunk of the math they took in college.\n",
      "If that doesn't convince you, this book is also free (as in no cost) and free as in you can share it and remix it.\n",
      "What's with the Ancient Art of the Numerati part of the title\n",
      "\n",
      "In June of 2010 I was trying to come up with a title for this book. I like clever titles, but unfortunately, I have no talent in the area. I recently published a paper titled Linguistic Dumpster Diving: Geographical Classification of Arabic Text (yep, a data mining paper). I like the title and it is clever because it fits with the content of the paper, but I have to confess my wife came up with the title. I cowrote a paper Mood and Modality: Out of the theory and into the fray. My co-author Marjorie McShane came up with the title. Anyway, back to June, 2010. All my clever title ideas were so vague that you wouldn't have a clue what the book was about. I finally settled on A Programmer's Guide to Data Mining as part of the title. I believe that bit is a concise description of the content of the book. You might wonder what is the meaning of the part after the colon:\n",
      "\n",
      "###A Programmer's Guide to Data Mining:\n",
      "###The Ancient Art of the Numerati.\n",
      "T\n",
      "he Numerati is a term coined by Stephen Baker. Each one of us generates an amazing amount of digital data everyday. credit card purchases, Twitter posts, Gowalla posts, Foursquare check-ins, cell phone calls, email messages, text messages, etc. You get up. The Matrix knows you boarded the 1-9subway at the Foggy Bottom Station at 7:10 and departed the Westside Station at 7:32. The Matrix knows you got a venti latte and a blueberry scone at the Starbucks on 5th and Union at 7:45; you used Gowalla to check-in at work at 8:05; you made an Amazon purchase for the P90X Extreme Home Fitness Workout Program 13 DVD set and a chin-up bar at 9:35; you had lunch at the Golden Falafel.\n",
      "\n",
      "###Stephen Baker writes:\n",
      "\n",
      "The only folks who can make sense of the data we create are crack mathematicians, computer scientists, and engineers. What will these Numerati learn about us as they run us into dizzying combinations of numbers? First they need to find us. Say you're a potential SUV shopper in the northern suburbs of New York, or a churchgoing, antiabortion Democrat in Albuquerque. Maybe you're a Java programmer ready to relocate to Hyderabad, or a jazz-loving, Chiantisipping Sagittarius looking for walks in the country and snuggles by the fireplace in Stockholm, or\u2014heaven help us\u2014maybe you're eager to strap bombs to your waist and climb onto a bus. Whatever you are\u2014and each of us is a lot of things\u2014companies and governments want to identify and locate you. Baker As you can probably guess, I like this term Numerati and Stephen Baker's description of it. The picture on the cover (and duplicated here) is of the Chinese philosopher Mozi who lived around 400BCE. His followers produced the earliest work in Chinese geometry.\n"
     ]
    }
   ],
   "metadata": {}
  }
 ]
}